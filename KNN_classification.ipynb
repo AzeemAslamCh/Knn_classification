{
 "cells": [
  {
   "cell_type": "markdown",
   "metadata": {},
   "source": [
    "## KNN Classification"
   ]
  },
  {
   "cell_type": "markdown",
   "metadata": {},
   "source": [
    "#### Social media ad scenario is a classification problem. The objective is to classify target audience and to predict if a user will buy the advertised item or not. We will employ scikit-learn library for classification. We will apply two different classification algorithms, i.e., KNN and Decision Tree on our dataset."
   ]
  },
  {
   "cell_type": "markdown",
   "metadata": {},
   "source": [
    "1 Import Libraries"
   ]
  },
  {
   "cell_type": "code",
   "execution_count": 94,
   "metadata": {},
   "outputs": [],
   "source": [
    "import numpy as np\n",
    "import pandas as pd\n",
    "import seaborn as sns \n",
    "import sklearn as sk\n",
    "import matplotlib.pyplot as plt "
   ]
  },
  {
   "cell_type": "markdown",
   "metadata": {},
   "source": [
    "2 Loading dataset"
   ]
  },
  {
   "cell_type": "code",
   "execution_count": 95,
   "metadata": {},
   "outputs": [
    {
     "data": {
      "text/html": [
       "<div>\n",
       "<style scoped>\n",
       "    .dataframe tbody tr th:only-of-type {\n",
       "        vertical-align: middle;\n",
       "    }\n",
       "\n",
       "    .dataframe tbody tr th {\n",
       "        vertical-align: top;\n",
       "    }\n",
       "\n",
       "    .dataframe thead th {\n",
       "        text-align: right;\n",
       "    }\n",
       "</style>\n",
       "<table border=\"1\" class=\"dataframe\">\n",
       "  <thead>\n",
       "    <tr style=\"text-align: right;\">\n",
       "      <th></th>\n",
       "      <th>User ID</th>\n",
       "      <th>Gender</th>\n",
       "      <th>Age</th>\n",
       "      <th>EstimatedSalary</th>\n",
       "      <th>Purchased</th>\n",
       "    </tr>\n",
       "  </thead>\n",
       "  <tbody>\n",
       "    <tr>\n",
       "      <th>0</th>\n",
       "      <td>15624510</td>\n",
       "      <td>Male</td>\n",
       "      <td>19</td>\n",
       "      <td>19000</td>\n",
       "      <td>0</td>\n",
       "    </tr>\n",
       "    <tr>\n",
       "      <th>1</th>\n",
       "      <td>15810944</td>\n",
       "      <td>Male</td>\n",
       "      <td>35</td>\n",
       "      <td>20000</td>\n",
       "      <td>0</td>\n",
       "    </tr>\n",
       "    <tr>\n",
       "      <th>2</th>\n",
       "      <td>15668575</td>\n",
       "      <td>Female</td>\n",
       "      <td>26</td>\n",
       "      <td>43000</td>\n",
       "      <td>0</td>\n",
       "    </tr>\n",
       "    <tr>\n",
       "      <th>3</th>\n",
       "      <td>15603246</td>\n",
       "      <td>Female</td>\n",
       "      <td>27</td>\n",
       "      <td>57000</td>\n",
       "      <td>0</td>\n",
       "    </tr>\n",
       "    <tr>\n",
       "      <th>4</th>\n",
       "      <td>15804002</td>\n",
       "      <td>Male</td>\n",
       "      <td>19</td>\n",
       "      <td>76000</td>\n",
       "      <td>0</td>\n",
       "    </tr>\n",
       "  </tbody>\n",
       "</table>\n",
       "</div>"
      ],
      "text/plain": [
       "    User ID  Gender  Age  EstimatedSalary  Purchased\n",
       "0  15624510    Male   19            19000          0\n",
       "1  15810944    Male   35            20000          0\n",
       "2  15668575  Female   26            43000          0\n",
       "3  15603246  Female   27            57000          0\n",
       "4  15804002    Male   19            76000          0"
      ]
     },
     "execution_count": 95,
     "metadata": {},
     "output_type": "execute_result"
    }
   ],
   "source": [
    "df = pd.read_csv(\"Social_Network_Ads.csv\")\n",
    "df.head()"
   ]
  },
  {
   "cell_type": "markdown",
   "metadata": {},
   "source": [
    "3 Check dataset shape"
   ]
  },
  {
   "cell_type": "code",
   "execution_count": 96,
   "metadata": {},
   "outputs": [
    {
     "data": {
      "text/plain": [
       "(400, 5)"
      ]
     },
     "execution_count": 96,
     "metadata": {},
     "output_type": "execute_result"
    }
   ],
   "source": [
    "df.shape"
   ]
  },
  {
   "cell_type": "markdown",
   "metadata": {},
   "source": [
    "3 The info() method prints a concise summary of the DataFrame"
   ]
  },
  {
   "cell_type": "code",
   "execution_count": 97,
   "metadata": {},
   "outputs": [
    {
     "name": "stdout",
     "output_type": "stream",
     "text": [
      "<class 'pandas.core.frame.DataFrame'>\n",
      "RangeIndex: 400 entries, 0 to 399\n",
      "Data columns (total 5 columns):\n",
      " #   Column           Non-Null Count  Dtype \n",
      "---  ------           --------------  ----- \n",
      " 0   User ID          400 non-null    int64 \n",
      " 1   Gender           400 non-null    object\n",
      " 2   Age              400 non-null    int64 \n",
      " 3   EstimatedSalary  400 non-null    int64 \n",
      " 4   Purchased        400 non-null    int64 \n",
      "dtypes: int64(4), object(1)\n",
      "memory usage: 15.8+ KB\n"
     ]
    }
   ],
   "source": [
    "df.info()"
   ]
  },
  {
   "cell_type": "markdown",
   "metadata": {},
   "source": [
    "4 Describe dataset statisticaly"
   ]
  },
  {
   "cell_type": "code",
   "execution_count": 98,
   "metadata": {},
   "outputs": [
    {
     "data": {
      "text/html": [
       "<div>\n",
       "<style scoped>\n",
       "    .dataframe tbody tr th:only-of-type {\n",
       "        vertical-align: middle;\n",
       "    }\n",
       "\n",
       "    .dataframe tbody tr th {\n",
       "        vertical-align: top;\n",
       "    }\n",
       "\n",
       "    .dataframe thead th {\n",
       "        text-align: right;\n",
       "    }\n",
       "</style>\n",
       "<table border=\"1\" class=\"dataframe\">\n",
       "  <thead>\n",
       "    <tr style=\"text-align: right;\">\n",
       "      <th></th>\n",
       "      <th>User ID</th>\n",
       "      <th>Age</th>\n",
       "      <th>EstimatedSalary</th>\n",
       "      <th>Purchased</th>\n",
       "    </tr>\n",
       "  </thead>\n",
       "  <tbody>\n",
       "    <tr>\n",
       "      <th>count</th>\n",
       "      <td>4.000000e+02</td>\n",
       "      <td>400.000000</td>\n",
       "      <td>400.000000</td>\n",
       "      <td>400.000000</td>\n",
       "    </tr>\n",
       "    <tr>\n",
       "      <th>mean</th>\n",
       "      <td>1.569154e+07</td>\n",
       "      <td>37.655000</td>\n",
       "      <td>69742.500000</td>\n",
       "      <td>0.357500</td>\n",
       "    </tr>\n",
       "    <tr>\n",
       "      <th>std</th>\n",
       "      <td>7.165832e+04</td>\n",
       "      <td>10.482877</td>\n",
       "      <td>34096.960282</td>\n",
       "      <td>0.479864</td>\n",
       "    </tr>\n",
       "    <tr>\n",
       "      <th>min</th>\n",
       "      <td>1.556669e+07</td>\n",
       "      <td>18.000000</td>\n",
       "      <td>15000.000000</td>\n",
       "      <td>0.000000</td>\n",
       "    </tr>\n",
       "    <tr>\n",
       "      <th>25%</th>\n",
       "      <td>1.562676e+07</td>\n",
       "      <td>29.750000</td>\n",
       "      <td>43000.000000</td>\n",
       "      <td>0.000000</td>\n",
       "    </tr>\n",
       "    <tr>\n",
       "      <th>50%</th>\n",
       "      <td>1.569434e+07</td>\n",
       "      <td>37.000000</td>\n",
       "      <td>70000.000000</td>\n",
       "      <td>0.000000</td>\n",
       "    </tr>\n",
       "    <tr>\n",
       "      <th>75%</th>\n",
       "      <td>1.575036e+07</td>\n",
       "      <td>46.000000</td>\n",
       "      <td>88000.000000</td>\n",
       "      <td>1.000000</td>\n",
       "    </tr>\n",
       "    <tr>\n",
       "      <th>max</th>\n",
       "      <td>1.581524e+07</td>\n",
       "      <td>60.000000</td>\n",
       "      <td>150000.000000</td>\n",
       "      <td>1.000000</td>\n",
       "    </tr>\n",
       "  </tbody>\n",
       "</table>\n",
       "</div>"
      ],
      "text/plain": [
       "            User ID         Age  EstimatedSalary   Purchased\n",
       "count  4.000000e+02  400.000000       400.000000  400.000000\n",
       "mean   1.569154e+07   37.655000     69742.500000    0.357500\n",
       "std    7.165832e+04   10.482877     34096.960282    0.479864\n",
       "min    1.556669e+07   18.000000     15000.000000    0.000000\n",
       "25%    1.562676e+07   29.750000     43000.000000    0.000000\n",
       "50%    1.569434e+07   37.000000     70000.000000    0.000000\n",
       "75%    1.575036e+07   46.000000     88000.000000    1.000000\n",
       "max    1.581524e+07   60.000000    150000.000000    1.000000"
      ]
     },
     "execution_count": 98,
     "metadata": {},
     "output_type": "execute_result"
    }
   ],
   "source": [
    "df.describe()"
   ]
  },
  {
   "cell_type": "markdown",
   "metadata": {},
   "source": [
    "5 To return the above information for all columns of dataset"
   ]
  },
  {
   "cell_type": "code",
   "execution_count": 99,
   "metadata": {},
   "outputs": [
    {
     "data": {
      "text/html": [
       "<div>\n",
       "<style scoped>\n",
       "    .dataframe tbody tr th:only-of-type {\n",
       "        vertical-align: middle;\n",
       "    }\n",
       "\n",
       "    .dataframe tbody tr th {\n",
       "        vertical-align: top;\n",
       "    }\n",
       "\n",
       "    .dataframe thead th {\n",
       "        text-align: right;\n",
       "    }\n",
       "</style>\n",
       "<table border=\"1\" class=\"dataframe\">\n",
       "  <thead>\n",
       "    <tr style=\"text-align: right;\">\n",
       "      <th></th>\n",
       "      <th>User ID</th>\n",
       "      <th>Gender</th>\n",
       "      <th>Age</th>\n",
       "      <th>EstimatedSalary</th>\n",
       "      <th>Purchased</th>\n",
       "    </tr>\n",
       "  </thead>\n",
       "  <tbody>\n",
       "    <tr>\n",
       "      <th>count</th>\n",
       "      <td>4.000000e+02</td>\n",
       "      <td>400</td>\n",
       "      <td>400.000000</td>\n",
       "      <td>400.000000</td>\n",
       "      <td>400.000000</td>\n",
       "    </tr>\n",
       "    <tr>\n",
       "      <th>unique</th>\n",
       "      <td>NaN</td>\n",
       "      <td>2</td>\n",
       "      <td>NaN</td>\n",
       "      <td>NaN</td>\n",
       "      <td>NaN</td>\n",
       "    </tr>\n",
       "    <tr>\n",
       "      <th>top</th>\n",
       "      <td>NaN</td>\n",
       "      <td>Female</td>\n",
       "      <td>NaN</td>\n",
       "      <td>NaN</td>\n",
       "      <td>NaN</td>\n",
       "    </tr>\n",
       "    <tr>\n",
       "      <th>freq</th>\n",
       "      <td>NaN</td>\n",
       "      <td>204</td>\n",
       "      <td>NaN</td>\n",
       "      <td>NaN</td>\n",
       "      <td>NaN</td>\n",
       "    </tr>\n",
       "    <tr>\n",
       "      <th>mean</th>\n",
       "      <td>1.569154e+07</td>\n",
       "      <td>NaN</td>\n",
       "      <td>37.655000</td>\n",
       "      <td>69742.500000</td>\n",
       "      <td>0.357500</td>\n",
       "    </tr>\n",
       "    <tr>\n",
       "      <th>std</th>\n",
       "      <td>7.165832e+04</td>\n",
       "      <td>NaN</td>\n",
       "      <td>10.482877</td>\n",
       "      <td>34096.960282</td>\n",
       "      <td>0.479864</td>\n",
       "    </tr>\n",
       "    <tr>\n",
       "      <th>min</th>\n",
       "      <td>1.556669e+07</td>\n",
       "      <td>NaN</td>\n",
       "      <td>18.000000</td>\n",
       "      <td>15000.000000</td>\n",
       "      <td>0.000000</td>\n",
       "    </tr>\n",
       "    <tr>\n",
       "      <th>25%</th>\n",
       "      <td>1.562676e+07</td>\n",
       "      <td>NaN</td>\n",
       "      <td>29.750000</td>\n",
       "      <td>43000.000000</td>\n",
       "      <td>0.000000</td>\n",
       "    </tr>\n",
       "    <tr>\n",
       "      <th>50%</th>\n",
       "      <td>1.569434e+07</td>\n",
       "      <td>NaN</td>\n",
       "      <td>37.000000</td>\n",
       "      <td>70000.000000</td>\n",
       "      <td>0.000000</td>\n",
       "    </tr>\n",
       "    <tr>\n",
       "      <th>75%</th>\n",
       "      <td>1.575036e+07</td>\n",
       "      <td>NaN</td>\n",
       "      <td>46.000000</td>\n",
       "      <td>88000.000000</td>\n",
       "      <td>1.000000</td>\n",
       "    </tr>\n",
       "    <tr>\n",
       "      <th>max</th>\n",
       "      <td>1.581524e+07</td>\n",
       "      <td>NaN</td>\n",
       "      <td>60.000000</td>\n",
       "      <td>150000.000000</td>\n",
       "      <td>1.000000</td>\n",
       "    </tr>\n",
       "  </tbody>\n",
       "</table>\n",
       "</div>"
      ],
      "text/plain": [
       "             User ID  Gender         Age  EstimatedSalary   Purchased\n",
       "count   4.000000e+02     400  400.000000       400.000000  400.000000\n",
       "unique           NaN       2         NaN              NaN         NaN\n",
       "top              NaN  Female         NaN              NaN         NaN\n",
       "freq             NaN     204         NaN              NaN         NaN\n",
       "mean    1.569154e+07     NaN   37.655000     69742.500000    0.357500\n",
       "std     7.165832e+04     NaN   10.482877     34096.960282    0.479864\n",
       "min     1.556669e+07     NaN   18.000000     15000.000000    0.000000\n",
       "25%     1.562676e+07     NaN   29.750000     43000.000000    0.000000\n",
       "50%     1.569434e+07     NaN   37.000000     70000.000000    0.000000\n",
       "75%     1.575036e+07     NaN   46.000000     88000.000000    1.000000\n",
       "max     1.581524e+07     NaN   60.000000    150000.000000    1.000000"
      ]
     },
     "execution_count": 99,
     "metadata": {},
     "output_type": "execute_result"
    }
   ],
   "source": [
    "df.describe(include='all')"
   ]
  },
  {
   "cell_type": "markdown",
   "metadata": {},
   "source": [
    "6 Plot the distribution of column Age"
   ]
  },
  {
   "cell_type": "code",
   "execution_count": 100,
   "metadata": {},
   "outputs": [
    {
     "data": {
      "image/png": "[encoded data removed]",
      "text/plain": [
       "<Figure size 640x480 with 1 Axes>"
      ]
     },
     "metadata": {},
     "output_type": "display_data"
    }
   ],
   "source": [
    "sns.histplot(df.Age)\n",
    "plt.title(\"Age Distribution\")\n",
    "plt.show()"
   ]
  },
  {
   "cell_type": "markdown",
   "metadata": {},
   "source": [
    "7 Age distribution of the people who have responded to the social media ads and bought the product and those who haven’t."
   ]
  },
  {
   "cell_type": "code",
   "execution_count": 101,
   "metadata": {},
   "outputs": [
    {
     "data": {
      "image/png": "[encoded data removed]",
      "text/plain": [
       "<Figure size 1000x800 with 1 Axes>"
      ]
     },
     "metadata": {},
     "output_type": "display_data"
    }
   ],
   "source": [
    "plt.figure(figsize=(10,8))\n",
    "plt.title(\"Age Distribution\")\n",
    "sns.histplot(x=\"Age\", hue=\"Purchased\", data=df)\n",
    "plt.show()"
   ]
  },
  {
   "cell_type": "markdown",
   "metadata": {},
   "source": [
    "8 In our dataset, Gender has categorical value. We can use the below code to convert it to numerical value. It will replace Male by 0 and Female by 1 in the Gender column"
   ]
  },
  {
   "cell_type": "code",
   "execution_count": 102,
   "metadata": {},
   "outputs": [
    {
     "data": {
      "text/html": [
       "<div>\n",
       "<style scoped>\n",
       "    .dataframe tbody tr th:only-of-type {\n",
       "        vertical-align: middle;\n",
       "    }\n",
       "\n",
       "    .dataframe tbody tr th {\n",
       "        vertical-align: top;\n",
       "    }\n",
       "\n",
       "    .dataframe thead th {\n",
       "        text-align: right;\n",
       "    }\n",
       "</style>\n",
       "<table border=\"1\" class=\"dataframe\">\n",
       "  <thead>\n",
       "    <tr style=\"text-align: right;\">\n",
       "      <th></th>\n",
       "      <th>User ID</th>\n",
       "      <th>Gender</th>\n",
       "      <th>Age</th>\n",
       "      <th>EstimatedSalary</th>\n",
       "      <th>Purchased</th>\n",
       "    </tr>\n",
       "  </thead>\n",
       "  <tbody>\n",
       "    <tr>\n",
       "      <th>0</th>\n",
       "      <td>15624510</td>\n",
       "      <td>0</td>\n",
       "      <td>19</td>\n",
       "      <td>19000</td>\n",
       "      <td>0</td>\n",
       "    </tr>\n",
       "    <tr>\n",
       "      <th>1</th>\n",
       "      <td>15810944</td>\n",
       "      <td>0</td>\n",
       "      <td>35</td>\n",
       "      <td>20000</td>\n",
       "      <td>0</td>\n",
       "    </tr>\n",
       "    <tr>\n",
       "      <th>2</th>\n",
       "      <td>15668575</td>\n",
       "      <td>1</td>\n",
       "      <td>26</td>\n",
       "      <td>43000</td>\n",
       "      <td>0</td>\n",
       "    </tr>\n",
       "    <tr>\n",
       "      <th>3</th>\n",
       "      <td>15603246</td>\n",
       "      <td>1</td>\n",
       "      <td>27</td>\n",
       "      <td>57000</td>\n",
       "      <td>0</td>\n",
       "    </tr>\n",
       "    <tr>\n",
       "      <th>4</th>\n",
       "      <td>15804002</td>\n",
       "      <td>0</td>\n",
       "      <td>19</td>\n",
       "      <td>76000</td>\n",
       "      <td>0</td>\n",
       "    </tr>\n",
       "    <tr>\n",
       "      <th>...</th>\n",
       "      <td>...</td>\n",
       "      <td>...</td>\n",
       "      <td>...</td>\n",
       "      <td>...</td>\n",
       "      <td>...</td>\n",
       "    </tr>\n",
       "    <tr>\n",
       "      <th>395</th>\n",
       "      <td>15691863</td>\n",
       "      <td>1</td>\n",
       "      <td>46</td>\n",
       "      <td>41000</td>\n",
       "      <td>1</td>\n",
       "    </tr>\n",
       "    <tr>\n",
       "      <th>396</th>\n",
       "      <td>15706071</td>\n",
       "      <td>0</td>\n",
       "      <td>51</td>\n",
       "      <td>23000</td>\n",
       "      <td>1</td>\n",
       "    </tr>\n",
       "    <tr>\n",
       "      <th>397</th>\n",
       "      <td>15654296</td>\n",
       "      <td>1</td>\n",
       "      <td>50</td>\n",
       "      <td>20000</td>\n",
       "      <td>1</td>\n",
       "    </tr>\n",
       "    <tr>\n",
       "      <th>398</th>\n",
       "      <td>15755018</td>\n",
       "      <td>0</td>\n",
       "      <td>36</td>\n",
       "      <td>33000</td>\n",
       "      <td>0</td>\n",
       "    </tr>\n",
       "    <tr>\n",
       "      <th>399</th>\n",
       "      <td>15594041</td>\n",
       "      <td>1</td>\n",
       "      <td>49</td>\n",
       "      <td>36000</td>\n",
       "      <td>1</td>\n",
       "    </tr>\n",
       "  </tbody>\n",
       "</table>\n",
       "<p>400 rows × 5 columns</p>\n",
       "</div>"
      ],
      "text/plain": [
       "      User ID  Gender  Age  EstimatedSalary  Purchased\n",
       "0    15624510       0   19            19000          0\n",
       "1    15810944       0   35            20000          0\n",
       "2    15668575       1   26            43000          0\n",
       "3    15603246       1   27            57000          0\n",
       "4    15804002       0   19            76000          0\n",
       "..        ...     ...  ...              ...        ...\n",
       "395  15691863       1   46            41000          1\n",
       "396  15706071       0   51            23000          1\n",
       "397  15654296       1   50            20000          1\n",
       "398  15755018       0   36            33000          0\n",
       "399  15594041       1   49            36000          1\n",
       "\n",
       "[400 rows x 5 columns]"
      ]
     },
     "execution_count": 102,
     "metadata": {},
     "output_type": "execute_result"
    }
   ],
   "source": [
    "df['Gender'] = df['Gender'].replace(['Male','Female'], [0,1])\n",
    "df"
   ]
  },
  {
   "cell_type": "code",
   "execution_count": 103,
   "metadata": {},
   "outputs": [
    {
     "data": {
      "text/html": [
       "<div>\n",
       "<style scoped>\n",
       "    .dataframe tbody tr th:only-of-type {\n",
       "        vertical-align: middle;\n",
       "    }\n",
       "\n",
       "    .dataframe tbody tr th {\n",
       "        vertical-align: top;\n",
       "    }\n",
       "\n",
       "    .dataframe thead th {\n",
       "        text-align: right;\n",
       "    }\n",
       "</style>\n",
       "<table border=\"1\" class=\"dataframe\">\n",
       "  <thead>\n",
       "    <tr style=\"text-align: right;\">\n",
       "      <th></th>\n",
       "      <th>User ID</th>\n",
       "      <th>Gender</th>\n",
       "      <th>Age</th>\n",
       "      <th>EstimatedSalary</th>\n",
       "      <th>Purchased</th>\n",
       "    </tr>\n",
       "  </thead>\n",
       "  <tbody>\n",
       "    <tr>\n",
       "      <th>0</th>\n",
       "      <td>15624510</td>\n",
       "      <td>0</td>\n",
       "      <td>19</td>\n",
       "      <td>19000</td>\n",
       "      <td>0</td>\n",
       "    </tr>\n",
       "    <tr>\n",
       "      <th>1</th>\n",
       "      <td>15810944</td>\n",
       "      <td>0</td>\n",
       "      <td>35</td>\n",
       "      <td>20000</td>\n",
       "      <td>0</td>\n",
       "    </tr>\n",
       "    <tr>\n",
       "      <th>2</th>\n",
       "      <td>15668575</td>\n",
       "      <td>1</td>\n",
       "      <td>26</td>\n",
       "      <td>43000</td>\n",
       "      <td>0</td>\n",
       "    </tr>\n",
       "    <tr>\n",
       "      <th>3</th>\n",
       "      <td>15603246</td>\n",
       "      <td>1</td>\n",
       "      <td>27</td>\n",
       "      <td>57000</td>\n",
       "      <td>0</td>\n",
       "    </tr>\n",
       "    <tr>\n",
       "      <th>4</th>\n",
       "      <td>15804002</td>\n",
       "      <td>0</td>\n",
       "      <td>19</td>\n",
       "      <td>76000</td>\n",
       "      <td>0</td>\n",
       "    </tr>\n",
       "  </tbody>\n",
       "</table>\n",
       "</div>"
      ],
      "text/plain": [
       "    User ID  Gender  Age  EstimatedSalary  Purchased\n",
       "0  15624510       0   19            19000          0\n",
       "1  15810944       0   35            20000          0\n",
       "2  15668575       1   26            43000          0\n",
       "3  15603246       1   27            57000          0\n",
       "4  15804002       0   19            76000          0"
      ]
     },
     "execution_count": 103,
     "metadata": {},
     "output_type": "execute_result"
    }
   ],
   "source": [
    "# again view data\n",
    "df.head()"
   ]
  },
  {
   "cell_type": "markdown",
   "metadata": {},
   "source": [
    "9 User ID has no effect on data so we slice it. and creat output y   and input x"
   ]
  },
  {
   "cell_type": "code",
   "execution_count": 104,
   "metadata": {},
   "outputs": [],
   "source": [
    "x = df.iloc[:,[1,2,3]].values\n",
    "y = df.iloc[:, 4].values"
   ]
  },
  {
   "cell_type": "markdown",
   "metadata": {},
   "source": [
    "10 Splitting the dataset into the Training set and the Test set"
   ]
  },
  {
   "cell_type": "code",
   "execution_count": 105,
   "metadata": {},
   "outputs": [],
   "source": [
    "# import library \n",
    "from sklearn.model_selection import train_test_split\n",
    "X_train, X_test, y_train, y_test = train_test_split(x,y, test_size=0.3, random_state=0)"
   ]
  },
  {
   "cell_type": "markdown",
   "metadata": {},
   "source": [
    "11 We do scaling of our data so that the numaric date will be on same sccale "
   ]
  },
  {
   "cell_type": "code",
   "execution_count": 106,
   "metadata": {},
   "outputs": [
    {
     "data": {
      "text/plain": [
       "array([[-0.99288247, -1.1631724 , -1.5849703 ],\n",
       "       [-0.99288247,  2.17018137,  0.93098672],\n",
       "       [ 1.00716855,  0.0133054 ,  1.22017719],\n",
       "       [-0.99288247,  0.20938504,  1.07558195],\n",
       "       [ 1.00716855,  0.40546467, -0.48604654],\n",
       "       [-0.99288247, -0.28081405, -0.31253226],\n",
       "       [-0.99288247,  0.99370357, -0.8330751 ],\n",
       "       [ 1.00716855,  0.99370357,  1.8563962 ],\n",
       "       [ 1.00716855,  0.0133054 ,  1.24909623],\n",
       "       [-0.99288247, -0.86905295,  2.26126285],\n",
       "       [ 1.00716855, -1.1631724 , -1.5849703 ],\n",
       "       [-0.99288247,  2.17018137, -0.80415605],\n",
       "       [-0.99288247, -1.35925203, -1.46929411],\n",
       "       [-0.99288247,  0.40546467,  2.2901819 ],\n",
       "       [ 1.00716855,  0.79762394,  0.75747245],\n",
       "       [-0.99288247, -0.96709276, -0.31253226],\n",
       "       [-0.99288247,  0.11134522,  0.75747245],\n",
       "       [-0.99288247, -0.96709276,  0.55503912],\n",
       "       [-0.99288247,  0.30742485,  0.06341534],\n",
       "       [-0.99288247,  0.69958412, -1.26686079],\n",
       "       [ 1.00716855, -0.47689368, -0.0233418 ],\n",
       "       [ 1.00716855, -1.7514113 ,  0.3526058 ],\n",
       "       [-0.99288247, -0.67297331,  0.12125343],\n",
       "       [-0.99288247,  0.40546467,  0.29476771],\n",
       "       [ 1.00716855, -0.28081405,  0.06341534],\n",
       "       [ 1.00716855, -0.47689368,  2.2901819 ],\n",
       "       [-0.99288247,  0.20938504,  0.03449629],\n",
       "       [ 1.00716855,  1.28782302,  2.20342476],\n",
       "       [-0.99288247,  0.79762394,  0.26584866],\n",
       "       [-0.99288247, -0.28081405,  0.15017248],\n",
       "       [-0.99288247,  0.0133054 , -0.54388463],\n",
       "       [ 1.00716855, -0.18277423,  0.15017248],\n",
       "       [ 1.00716855, -0.08473441,  0.23692961],\n",
       "       [-0.99288247,  0.0133054 , -0.25469417],\n",
       "       [ 1.00716855,  2.17018137,  1.104501  ],\n",
       "       [ 1.00716855, -1.7514113 ,  0.3526058 ],\n",
       "       [-0.99288247,  1.87606192,  0.12125343],\n",
       "       [-0.99288247,  0.40546467, -0.13901799],\n",
       "       [-0.99288247, -1.1631724 ,  0.29476771],\n",
       "       [-0.99288247,  0.79762394,  1.36477242],\n",
       "       [-0.99288247, -0.28081405, -0.25469417],\n",
       "       [ 1.00716855, -1.65337148, -0.05226085],\n",
       "       [ 1.00716855, -0.96709276, -0.74631796],\n",
       "       [-0.99288247,  0.30742485,  0.49720103],\n",
       "       [ 1.00716855, -0.08473441, -1.06442747],\n",
       "       [-0.99288247, -1.06513258,  0.58395817],\n",
       "       [-0.99288247,  0.11134522, -0.80415605],\n",
       "       [-0.99288247, -0.96709276,  1.53828669],\n",
       "       [ 1.00716855, -0.67297331,  1.39369146],\n",
       "       [-0.99288247, -1.26121221,  0.49720103],\n",
       "       [ 1.00716855, -0.28081405,  0.03449629],\n",
       "       [-0.99288247, -0.08473441,  0.00557724],\n",
       "       [-0.99288247, -0.28081405, -0.89091319],\n",
       "       [-0.99288247,  0.89566375, -1.35361793],\n",
       "       [ 1.00716855, -0.28081405,  2.2323438 ],\n",
       "       [ 1.00716855,  0.99370357,  1.97207239],\n",
       "       [-0.99288247, -1.1631724 ,  0.46828198],\n",
       "       [-0.99288247, -1.26121221,  0.26584866],\n",
       "       [ 1.00716855,  1.38586284,  1.97207239],\n",
       "       [-0.99288247,  1.28782302, -1.35361793],\n",
       "       [ 1.00716855, -0.28081405, -0.28361322],\n",
       "       [ 1.00716855, -0.47689368,  1.24909623],\n",
       "       [-0.99288247, -0.77101313,  1.07558195],\n",
       "       [-0.99288247,  0.99370357, -1.06442747],\n",
       "       [ 1.00716855,  0.30742485,  0.29476771],\n",
       "       [ 1.00716855,  0.99370357,  0.75747245],\n",
       "       [-0.99288247, -0.67297331, -1.49821316],\n",
       "       [ 1.00716855, -0.67297331,  0.03449629],\n",
       "       [-0.99288247,  0.50350449,  1.71180097],\n",
       "       [ 1.00716855,  2.07214155,  0.17909152],\n",
       "       [ 1.00716855, -1.94749093, -0.74631796],\n",
       "       [-0.99288247, -0.18277423,  1.39369146],\n",
       "       [ 1.00716855,  0.40546467,  0.58395817],\n",
       "       [ 1.00716855,  0.89566375, -1.1511846 ],\n",
       "       [ 1.00716855, -1.1631724 , -0.775237  ],\n",
       "       [-0.99288247,  0.20938504,  0.23692961],\n",
       "       [-0.99288247,  0.79762394, -0.31253226],\n",
       "       [ 1.00716855,  2.07214155, -0.80415605],\n",
       "       [ 1.00716855,  0.79762394,  0.12125343],\n",
       "       [-0.99288247, -0.28081405,  0.61287722],\n",
       "       [ 1.00716855, -0.96709276, -0.31253226],\n",
       "       [-0.99288247,  0.20938504, -0.37037036],\n",
       "       [-0.99288247,  2.07214155,  2.11666762],\n",
       "       [ 1.00716855,  1.87606192, -1.26686079],\n",
       "       [ 1.00716855,  1.38586284, -0.91983223],\n",
       "       [ 1.00716855,  0.89566375,  1.24909623],\n",
       "       [ 1.00716855,  1.48390265,  2.11666762],\n",
       "       [-0.99288247, -0.28081405, -1.23794174],\n",
       "       [ 1.00716855,  1.97410174,  0.90206768],\n",
       "       [ 1.00716855,  0.69958412, -0.71739891],\n",
       "       [ 1.00716855, -1.45729185,  0.3526058 ],\n",
       "       [-0.99288247,  0.79762394, -1.35361793],\n",
       "       [-0.99288247,  0.40546467, -0.13901799],\n",
       "       [ 1.00716855, -0.96709276,  0.41044389],\n",
       "       [-0.99288247,  0.0133054 , -0.31253226],\n",
       "       [ 1.00716855, -1.1631724 ,  0.41044389],\n",
       "       [ 1.00716855, -0.86905295, -1.2090227 ],\n",
       "       [ 1.00716855, -0.08473441,  0.03449629],\n",
       "       [ 1.00716855, -1.55533166, -0.42820845],\n",
       "       [ 1.00716855,  0.99370357, -1.00658937],\n",
       "       [-0.99288247,  1.09174339, -1.2090227 ],\n",
       "       [ 1.00716855,  0.0133054 , -0.13901799],\n",
       "       [ 1.00716855, -1.06513258, -1.52713221],\n",
       "       [-0.99288247,  0.79762394, -1.2090227 ],\n",
       "       [-0.99288247,  0.99370357,  2.05882953],\n",
       "       [ 1.00716855, -1.1631724 , -1.52713221],\n",
       "       [ 1.00716855, -0.28081405,  0.78639149],\n",
       "       [ 1.00716855,  0.11134522, -0.31253226],\n",
       "       [ 1.00716855, -1.35925203, -1.23794174],\n",
       "       [-0.99288247, -0.5749335 , -1.49821316],\n",
       "       [-0.99288247,  0.79762394,  0.52612008],\n",
       "       [-0.99288247, -0.28081405, -0.34145131],\n",
       "       [-0.99288247,  1.7780221 , -0.28361322],\n",
       "       [-0.99288247,  0.89566375, -1.03550842],\n",
       "       [ 1.00716855,  0.20938504,  0.06341534],\n",
       "       [-0.99288247, -0.5749335 ,  0.87314863],\n",
       "       [ 1.00716855, -1.84945111, -1.41145602],\n",
       "       [-0.99288247, -1.26121221,  0.58395817],\n",
       "       [-0.99288247, -0.28081405,  0.52612008],\n",
       "       [-0.99288247, -0.96709276, -1.09334651],\n",
       "       [ 1.00716855,  1.1897832 , -1.44037507],\n",
       "       [-0.99288247,  0.20938504, -0.31253226],\n",
       "       [ 1.00716855,  1.1897832 , -0.74631796],\n",
       "       [-0.99288247, -0.28081405,  0.06341534],\n",
       "       [ 1.00716855,  0.20938504,  2.08774857],\n",
       "       [ 1.00716855,  0.79762394, -1.09334651],\n",
       "       [ 1.00716855,  0.11134522,  0.03449629],\n",
       "       [-0.99288247, -1.7514113 ,  0.12125343],\n",
       "       [-0.99288247, -0.86905295,  0.15017248],\n",
       "       [-0.99288247, -0.67297331,  0.17909152],\n",
       "       [-0.99288247,  0.89566375, -1.29577984],\n",
       "       [-0.99288247,  0.20938504, -0.25469417],\n",
       "       [-0.99288247, -0.37885386,  1.22017719],\n",
       "       [ 1.00716855,  0.0133054 ,  0.29476771],\n",
       "       [ 1.00716855,  0.40546467,  0.15017248],\n",
       "       [ 1.00716855,  0.89566375, -0.65956082],\n",
       "       [ 1.00716855,  0.11134522,  0.15017248],\n",
       "       [-0.99288247, -1.84945111, -1.29577984],\n",
       "       [ 1.00716855, -0.08473441,  0.29476771],\n",
       "       [-0.99288247, -0.18277423, -0.28361322],\n",
       "       [-0.99288247,  0.30742485, -0.51496559],\n",
       "       [-0.99288247, -0.18277423,  1.59612479],\n",
       "       [ 1.00716855,  0.99370357, -1.18010365],\n",
       "       [ 1.00716855, -0.18277423,  1.62504383],\n",
       "       [ 1.00716855,  1.28782302,  1.8563962 ],\n",
       "       [ 1.00716855, -1.06513258, -0.37037036],\n",
       "       [-0.99288247,  0.0133054 ,  0.03449629],\n",
       "       [ 1.00716855,  0.11134522, -0.25469417],\n",
       "       [ 1.00716855, -1.55533166, -1.23794174],\n",
       "       [ 1.00716855, -0.47689368, -0.28361322],\n",
       "       [-0.99288247,  0.99370357,  0.12125343],\n",
       "       [ 1.00716855,  1.97410174, -1.35361793],\n",
       "       [-0.99288247,  1.48390265,  0.06341534],\n",
       "       [ 1.00716855, -0.5749335 ,  1.36477242],\n",
       "       [-0.99288247,  1.58194247,  0.00557724],\n",
       "       [-0.99288247, -0.77101313,  0.29476771],\n",
       "       [ 1.00716855,  1.97410174,  0.7285534 ],\n",
       "       [ 1.00716855, -1.1631724 , -0.51496559],\n",
       "       [-0.99288247,  0.69958412,  0.26584866],\n",
       "       [-0.99288247, -1.35925203, -0.42820845],\n",
       "       [-0.99288247,  0.20938504,  0.15017248],\n",
       "       [ 1.00716855, -0.47689368, -1.2090227 ],\n",
       "       [ 1.00716855,  0.6015443 ,  2.00099143],\n",
       "       [-0.99288247, -1.55533166, -1.49821316],\n",
       "       [ 1.00716855, -0.47689368, -0.54388463],\n",
       "       [ 1.00716855,  0.50350449,  1.82747716],\n",
       "       [ 1.00716855, -1.35925203, -1.09334651],\n",
       "       [ 1.00716855,  0.79762394, -1.38253697],\n",
       "       [-0.99288247, -0.28081405, -0.42820845],\n",
       "       [ 1.00716855,  1.58194247,  0.98882482],\n",
       "       [ 1.00716855,  0.99370357,  1.42261051],\n",
       "       [-0.99288247, -0.28081405, -0.48604654],\n",
       "       [-0.99288247, -0.08473441,  2.14558666],\n",
       "       [ 1.00716855, -1.45729185, -0.11009894],\n",
       "       [ 1.00716855, -0.08473441,  1.94315334],\n",
       "       [-0.99288247, -0.67297331, -0.34145131],\n",
       "       [ 1.00716855, -0.47689368, -0.8330751 ],\n",
       "       [ 1.00716855,  0.69958412, -1.38253697],\n",
       "       [-0.99288247, -0.77101313, -1.5849703 ],\n",
       "       [-0.99288247, -1.84945111, -1.46929411],\n",
       "       [-0.99288247,  1.09174339,  0.12125343],\n",
       "       [-0.99288247,  0.11134522,  1.50936765],\n",
       "       [-0.99288247, -0.28081405,  0.09233438],\n",
       "       [-0.99288247,  0.11134522,  0.03449629],\n",
       "       [-0.99288247, -1.35925203, -1.35361793],\n",
       "       [ 1.00716855,  0.30742485,  0.06341534],\n",
       "       [ 1.00716855, -0.86905295,  0.38152485],\n",
       "       [ 1.00716855,  1.58194247, -1.26686079],\n",
       "       [ 1.00716855, -0.28081405, -0.74631796],\n",
       "       [-0.99288247, -0.08473441,  0.15017248],\n",
       "       [ 1.00716855, -0.86905295, -0.65956082],\n",
       "       [ 1.00716855, -0.67297331, -0.05226085],\n",
       "       [-0.99288247,  0.40546467, -0.45712749],\n",
       "       [-0.99288247, -0.77101313,  1.88531525],\n",
       "       [ 1.00716855,  1.38586284,  1.27801528],\n",
       "       [ 1.00716855,  1.1897832 , -0.97767033],\n",
       "       [-0.99288247,  1.7780221 ,  1.82747716],\n",
       "       [-0.99288247, -0.86905295, -0.25469417],\n",
       "       [-0.99288247, -0.77101313,  0.55503912],\n",
       "       [-0.99288247, -1.1631724 , -1.55605125],\n",
       "       [-0.99288247, -0.47689368, -1.12226556],\n",
       "       [ 1.00716855,  0.30742485,  0.06341534],\n",
       "       [-0.99288247, -0.18277423, -1.06442747],\n",
       "       [ 1.00716855,  1.67998229,  1.59612479],\n",
       "       [ 1.00716855,  0.99370357,  1.76963906],\n",
       "       [ 1.00716855,  0.30742485,  0.03449629],\n",
       "       [ 1.00716855, -0.77101313, -0.22577513],\n",
       "       [-0.99288247, -0.08473441,  0.06341534],\n",
       "       [ 1.00716855,  0.30742485, -0.19685608],\n",
       "       [ 1.00716855,  1.97410174, -0.65956082],\n",
       "       [ 1.00716855, -0.77101313,  1.33585337],\n",
       "       [-0.99288247, -1.7514113 , -0.60172273],\n",
       "       [-0.99288247, -0.08473441,  0.12125343],\n",
       "       [-0.99288247,  0.30742485, -0.31253226],\n",
       "       [-0.99288247,  1.09174339,  0.55503912],\n",
       "       [-0.99288247, -0.96709276,  0.26584866],\n",
       "       [ 1.00716855,  1.48390265,  0.3526058 ],\n",
       "       [-0.99288247,  0.20938504, -0.37037036],\n",
       "       [-0.99288247,  2.17018137, -1.03550842],\n",
       "       [-0.99288247, -0.28081405,  1.104501  ],\n",
       "       [-0.99288247, -1.65337148,  0.06341534],\n",
       "       [-0.99288247,  0.0133054 ,  0.03449629],\n",
       "       [-0.99288247,  0.11134522,  1.04666291],\n",
       "       [ 1.00716855, -0.08473441, -0.37037036],\n",
       "       [ 1.00716855, -1.1631724 ,  0.06341534],\n",
       "       [ 1.00716855, -0.28081405, -1.35361793],\n",
       "       [ 1.00716855,  1.58194247,  1.104501  ],\n",
       "       [-0.99288247, -0.77101313, -1.52713221],\n",
       "       [-0.99288247,  0.11134522,  1.8563962 ],\n",
       "       [-0.99288247, -0.86905295, -0.775237  ],\n",
       "       [-0.99288247, -0.47689368, -0.775237  ],\n",
       "       [-0.99288247, -0.28081405, -0.91983223],\n",
       "       [-0.99288247,  0.30742485, -0.71739891],\n",
       "       [ 1.00716855,  0.30742485,  0.06341534],\n",
       "       [ 1.00716855,  0.11134522,  1.8563962 ],\n",
       "       [ 1.00716855, -1.06513258,  1.94315334],\n",
       "       [ 1.00716855, -1.65337148, -1.55605125],\n",
       "       [-0.99288247, -1.1631724 , -1.09334651],\n",
       "       [-0.99288247, -0.67297331, -0.11009894],\n",
       "       [ 1.00716855,  0.11134522,  0.09233438],\n",
       "       [-0.99288247,  0.30742485,  0.26584866],\n",
       "       [ 1.00716855,  0.89566375, -0.57280368],\n",
       "       [ 1.00716855,  0.30742485, -1.1511846 ],\n",
       "       [ 1.00716855, -0.08473441,  0.67071531],\n",
       "       [ 1.00716855,  2.17018137, -0.68847986],\n",
       "       [-0.99288247, -1.26121221, -1.38253697],\n",
       "       [ 1.00716855, -0.96709276, -0.94875128],\n",
       "       [ 1.00716855,  0.0133054 , -0.42820845],\n",
       "       [ 1.00716855, -0.18277423, -0.45712749],\n",
       "       [ 1.00716855, -1.7514113 , -0.97767033],\n",
       "       [ 1.00716855,  1.7780221 ,  0.98882482],\n",
       "       [-0.99288247,  0.20938504, -0.37037036],\n",
       "       [ 1.00716855,  0.40546467,  1.104501  ],\n",
       "       [ 1.00716855, -1.7514113 , -1.35361793],\n",
       "       [-0.99288247,  0.20938504, -0.13901799],\n",
       "       [-0.99288247,  0.89566375, -1.44037507],\n",
       "       [ 1.00716855, -1.94749093,  0.46828198],\n",
       "       [-0.99288247, -0.28081405,  0.26584866],\n",
       "       [ 1.00716855,  1.87606192, -1.06442747],\n",
       "       [ 1.00716855, -0.37885386,  0.06341534],\n",
       "       [ 1.00716855,  1.09174339, -0.89091319],\n",
       "       [ 1.00716855, -1.06513258, -1.12226556],\n",
       "       [-0.99288247, -1.84945111,  0.00557724],\n",
       "       [ 1.00716855,  0.11134522,  0.26584866],\n",
       "       [-0.99288247, -1.1631724 ,  0.32368675],\n",
       "       [-0.99288247, -1.26121221,  0.29476771],\n",
       "       [ 1.00716855, -0.96709276,  0.43936294],\n",
       "       [-0.99288247,  1.67998229, -0.89091319],\n",
       "       [ 1.00716855,  1.1897832 ,  0.52612008],\n",
       "       [-0.99288247,  1.09174339,  0.52612008],\n",
       "       [-0.99288247,  1.38586284,  2.31910094],\n",
       "       [ 1.00716855, -0.28081405, -0.13901799],\n",
       "       [-0.99288247,  0.40546467, -0.45712749],\n",
       "       [-0.99288247, -0.37885386, -0.775237  ],\n",
       "       [-0.99288247, -0.08473441, -0.51496559],\n",
       "       [ 1.00716855,  0.99370357, -1.1511846 ],\n",
       "       [-0.99288247, -0.86905295, -0.775237  ],\n",
       "       [-0.99288247, -0.18277423, -0.51496559],\n",
       "       [ 1.00716855, -1.06513258, -0.45712749],\n",
       "       [ 1.00716855, -1.1631724 ,  1.39369146]])"
      ]
     },
     "execution_count": 106,
     "metadata": {},
     "output_type": "execute_result"
    }
   ],
   "source": [
    "# import library \n",
    "from sklearn.preprocessing import StandardScaler\n",
    "sc = StandardScaler()\n",
    "X_train = sc.fit_transform(X_train)\n",
    "X_test = sc.fit_transform(X_test)\n",
    "X_train\n"
   ]
  },
  {
   "cell_type": "code",
   "execution_count": 107,
   "metadata": {},
   "outputs": [
    {
     "data": {
      "text/plain": [
       "(280, 3)"
      ]
     },
     "execution_count": 107,
     "metadata": {},
     "output_type": "execute_result"
    }
   ],
   "source": [
    "X_train.shape"
   ]
  },
  {
   "cell_type": "code",
   "execution_count": 108,
   "metadata": {},
   "outputs": [],
   "source": [
    "from sklearn.neighbors import KNeighborsClassifier\n",
    "from sklearn.metrics import accuracy_score\n",
    "scors=[]\n",
    "for i in range(1,12):\n",
    "    classifier = KNeighborsClassifier(n_neighbors=i)\n",
    "    classifier.fit(X_train, y_train)\n",
    "    y_pred = classifier.predict(X_test)\n",
    "    scors.append(accuracy_score(y_test,y_pred))"
   ]
  },
  {
   "cell_type": "code",
   "execution_count": 109,
   "metadata": {},
   "outputs": [
    {
     "data": {
      "text/plain": [
       "[<matplotlib.lines.Line2D at 0x1b4dbd70510>]"
      ]
     },
     "execution_count": 109,
     "metadata": {},
     "output_type": "execute_result"
    },
    {
     "data": {
      "image/png": "[encoded data removed]",
      "text/plain": [
       "<Figure size 640x480 with 1 Axes>"
      ]
     },
     "metadata": {},
     "output_type": "display_data"
    }
   ],
   "source": [
    "plt.plot(scors)"
   ]
  },
  {
   "cell_type": "markdown",
   "metadata": {},
   "source": [
    "12 Training the model"
   ]
  },
  {
   "cell_type": "code",
   "execution_count": 128,
   "metadata": {},
   "outputs": [
    {
     "data": {
      "text/html": [
       "<style>#sk-container-id-20 {color: black;}#sk-container-id-20 pre{padding: 0;}#sk-container-id-20 div.sk-toggleable {background-color: white;}#sk-container-id-20 label.sk-toggleable__label {cursor: pointer;display: block;width: 100%;margin-bottom: 0;padding: 0.3em;box-sizing: border-box;text-align: center;}#sk-container-id-20 label.sk-toggleable__label-arrow:before {content: \"▸\";float: left;margin-right: 0.25em;color: #696969;}#sk-container-id-20 label.sk-toggleable__label-arrow:hover:before {color: black;}#sk-container-id-20 div.sk-estimator:hover label.sk-toggleable__label-arrow:before {color: black;}#sk-container-id-20 div.sk-toggleable__content {max-height: 0;max-width: 0;overflow: hidden;text-align: left;background-color: #f0f8ff;}#sk-container-id-20 div.sk-toggleable__content pre {margin: 0.2em;color: black;border-radius: 0.25em;background-color: #f0f8ff;}#sk-container-id-20 input.sk-toggleable__control:checked~div.sk-toggleable__content {max-height: 200px;max-width: 100%;overflow: auto;}#sk-container-id-20 input.sk-toggleable__control:checked~label.sk-toggleable__label-arrow:before {content: \"▾\";}#sk-container-id-20 div.sk-estimator input.sk-toggleable__control:checked~label.sk-toggleable__label {background-color: #d4ebff;}#sk-container-id-20 div.sk-label input.sk-toggleable__control:checked~label.sk-toggleable__label {background-color: #d4ebff;}#sk-container-id-20 input.sk-hidden--visually {border: 0;clip: rect(1px 1px 1px 1px);clip: rect(1px, 1px, 1px, 1px);height: 1px;margin: -1px;overflow: hidden;padding: 0;position: absolute;width: 1px;}#sk-container-id-20 div.sk-estimator {font-family: monospace;background-color: #f0f8ff;border: 1px dotted black;border-radius: 0.25em;box-sizing: border-box;margin-bottom: 0.5em;}#sk-container-id-20 div.sk-estimator:hover {background-color: #d4ebff;}#sk-container-id-20 div.sk-parallel-item::after {content: \"\";width: 100%;border-bottom: 1px solid gray;flex-grow: 1;}#sk-container-id-20 div.sk-label:hover label.sk-toggleable__label {background-color: #d4ebff;}#sk-container-id-20 div.sk-serial::before {content: \"\";position: absolute;border-left: 1px solid gray;box-sizing: border-box;top: 0;bottom: 0;left: 50%;z-index: 0;}#sk-container-id-20 div.sk-serial {display: flex;flex-direction: column;align-items: center;background-color: white;padding-right: 0.2em;padding-left: 0.2em;position: relative;}#sk-container-id-20 div.sk-item {position: relative;z-index: 1;}#sk-container-id-20 div.sk-parallel {display: flex;align-items: stretch;justify-content: center;background-color: white;position: relative;}#sk-container-id-20 div.sk-item::before, #sk-container-id-20 div.sk-parallel-item::before {content: \"\";position: absolute;border-left: 1px solid gray;box-sizing: border-box;top: 0;bottom: 0;left: 50%;z-index: -1;}#sk-container-id-20 div.sk-parallel-item {display: flex;flex-direction: column;z-index: 1;position: relative;background-color: white;}#sk-container-id-20 div.sk-parallel-item:first-child::after {align-self: flex-end;width: 50%;}#sk-container-id-20 div.sk-parallel-item:last-child::after {align-self: flex-start;width: 50%;}#sk-container-id-20 div.sk-parallel-item:only-child::after {width: 0;}#sk-container-id-20 div.sk-dashed-wrapped {border: 1px dashed gray;margin: 0 0.4em 0.5em 0.4em;box-sizing: border-box;padding-bottom: 0.4em;background-color: white;}#sk-container-id-20 div.sk-label label {font-family: monospace;font-weight: bold;display: inline-block;line-height: 1.2em;}#sk-container-id-20 div.sk-label-container {text-align: center;}#sk-container-id-20 div.sk-container {/* jupyter's `normalize.less` sets `[hidden] { display: none; }` but bootstrap.min.css set `[hidden] { display: none !important; }` so we also need the `!important` here to be able to override the default hidden behavior on the sphinx rendered scikit-learn.org. See: https://github.com/scikit-learn/scikit-learn/issues/21755 */display: inline-block !important;position: relative;}#sk-container-id-20 div.sk-text-repr-fallback {display: none;}</style><div id=\"sk-container-id-20\" class=\"sk-top-container\"><div class=\"sk-text-repr-fallback\"><pre>KNeighborsClassifier(n_neighbors=8)</pre><b>In a Jupyter environment, please rerun this cell to show the HTML representation or trust the notebook. <br />On GitHub, the HTML representation is unable to render, please try loading this page with nbviewer.org.</b></div><div class=\"sk-container\" hidden><div class=\"sk-item\"><div class=\"sk-estimator sk-toggleable\"><input class=\"sk-toggleable__control sk-hidden--visually\" id=\"sk-estimator-id-20\" type=\"checkbox\" checked><label for=\"sk-estimator-id-20\" class=\"sk-toggleable__label sk-toggleable__label-arrow\">KNeighborsClassifier</label><div class=\"sk-toggleable__content\"><pre>KNeighborsClassifier(n_neighbors=8)</pre></div></div></div></div></div>"
      ],
      "text/plain": [
       "KNeighborsClassifier(n_neighbors=8)"
      ]
     },
     "execution_count": 128,
     "metadata": {},
     "output_type": "execute_result"
    }
   ],
   "source": [
    " \n",
    "classifier = KNeighborsClassifier(n_neighbors=8 , metric=\"minkowski\", p=2)\n",
    "classifier.fit(X_train, y_train)\n"
   ]
  },
  {
   "cell_type": "markdown",
   "metadata": {},
   "source": [
    "13 We can check accuracy of our model"
   ]
  },
  {
   "cell_type": "code",
   "execution_count": 129,
   "metadata": {},
   "outputs": [
    {
     "data": {
      "text/plain": [
       "0.925"
      ]
     },
     "execution_count": 129,
     "metadata": {},
     "output_type": "execute_result"
    }
   ],
   "source": [
    "\n",
    "y_pred = classifier.predict(X_test)\n",
    "accuracy_score(y_test, y_pred)"
   ]
  },
  {
   "cell_type": "markdown",
   "metadata": {},
   "source": [
    "13 Once the model is trained, we can use the ‘predict’ function on our model to\n",
    "make predictions on our test data"
   ]
  },
  {
   "cell_type": "code",
   "execution_count": 130,
   "metadata": {},
   "outputs": [
    {
     "data": {
      "text/plain": [
       "array([0, 0, 0, 0, 0, 0, 0, 1, 0, 1, 0, 0, 0, 0, 0, 1, 0, 0, 1, 0, 0, 1,\n",
       "       0, 1, 0, 1, 0, 0, 0, 0, 0, 0, 1, 0, 0, 0, 0, 0, 0, 1, 0, 0, 0, 0,\n",
       "       1, 0, 0, 1, 0, 1, 1, 0, 0, 1, 1, 1, 0, 0, 1, 0, 0, 1, 0, 1, 0, 1,\n",
       "       0, 0, 0, 0, 1, 0, 0, 1, 0, 0, 0, 0, 1, 1, 1, 1, 0, 0, 1, 0, 0, 1,\n",
       "       1, 0, 0, 1, 0, 0, 0, 0, 0, 1, 1, 1, 1, 1, 0, 1, 1, 1, 0, 0, 0, 0,\n",
       "       0, 0, 0, 1, 1, 0, 1, 0, 0, 1], dtype=int64)"
      ]
     },
     "execution_count": 130,
     "metadata": {},
     "output_type": "execute_result"
    }
   ],
   "source": [
    "y_pred = classifier.predict(X_test)\n",
    "y_pred"
   ]
  },
  {
   "cell_type": "code",
   "execution_count": 132,
   "metadata": {},
   "outputs": [
    {
     "data": {
      "text/plain": [
       "array([0, 0, 0, 0, 0, 0, 0, 1, 0, 0, 0, 0, 0, 0, 0, 0, 0, 0, 1, 0, 0, 1,\n",
       "       0, 1, 0, 1, 0, 0, 0, 0, 0, 1, 1, 0, 0, 0, 0, 0, 0, 1, 0, 0, 0, 0,\n",
       "       1, 0, 0, 1, 0, 1, 1, 0, 0, 0, 1, 1, 0, 0, 1, 0, 0, 1, 0, 1, 0, 1,\n",
       "       0, 0, 0, 0, 1, 0, 0, 1, 0, 0, 0, 0, 1, 1, 1, 0, 0, 0, 1, 1, 0, 1,\n",
       "       1, 0, 0, 1, 0, 0, 0, 1, 0, 1, 1, 1, 0, 1, 0, 1, 1, 1, 0, 0, 0, 0,\n",
       "       0, 0, 1, 1, 1, 0, 1, 0, 0, 1], dtype=int64)"
      ]
     },
     "execution_count": 132,
     "metadata": {},
     "output_type": "execute_result"
    }
   ],
   "source": [
    "y_test"
   ]
  },
  {
   "cell_type": "markdown",
   "metadata": {},
   "source": [
    "14 To measure the performance of the classification model we use the confusion matrix."
   ]
  },
  {
   "cell_type": "code",
   "execution_count": 133,
   "metadata": {},
   "outputs": [
    {
     "data": {
      "text/plain": [
       "array([[74,  5],\n",
       "       [ 4, 37]], dtype=int64)"
      ]
     },
     "execution_count": 133,
     "metadata": {},
     "output_type": "execute_result"
    }
   ],
   "source": [
    "from sklearn.metrics import confusion_matrix\n",
    "# y_pred = classifier.predict(X_test_s)\n",
    "cm = confusion_matrix(y_test, y_pred)\n",
    "cm"
   ]
  },
  {
   "cell_type": "markdown",
   "metadata": {},
   "source": [
    "14.1  Using the ravel() method of our confusion_matrix function, we can get the True Positive, True Negative, False Positive, and False Negative values.\n",
    "\n"
   ]
  },
  {
   "cell_type": "code",
   "execution_count": 134,
   "metadata": {},
   "outputs": [
    {
     "data": {
      "text/plain": [
       "(74, 5, 4, 37)"
      ]
     },
     "execution_count": 134,
     "metadata": {},
     "output_type": "execute_result"
    }
   ],
   "source": [
    "tp, fp, fn, tn= confusion_matrix(y_test, y_pred).ravel()\n",
    "(tp,fp,fn,tn)"
   ]
  },
  {
   "cell_type": "code",
   "execution_count": 135,
   "metadata": {},
   "outputs": [
    {
     "name": "stdout",
     "output_type": "stream",
     "text": [
      "classification report:  \n",
      "\n",
      "               precision    recall  f1-score   support\n",
      "\n",
      "           0       0.95      0.94      0.94        79\n",
      "           1       0.88      0.90      0.89        41\n",
      "\n",
      "    accuracy                           0.93       120\n",
      "   macro avg       0.91      0.92      0.92       120\n",
      "weighted avg       0.93      0.93      0.93       120\n",
      "\n"
     ]
    }
   ],
   "source": [
    "from sklearn.metrics import classification_report\n",
    "\n",
    "\n",
    "cr = classification_report(y_test, y_pred)\n",
    "print(\"classification report:  \\n\\n\", cr)"
   ]
  },
  {
   "cell_type": "code",
   "execution_count": 136,
   "metadata": {},
   "outputs": [
    {
     "data": {
      "image/png": "[encoded data removed]",
      "text/plain": [
       "<Figure size 640x480 with 2 Axes>"
      ]
     },
     "metadata": {},
     "output_type": "display_data"
    }
   ],
   "source": [
    "ac = sns.heatmap(cm, cmap='flare', annot=True, fmt='d')\n",
    "plt.xlabel('predicted class')\n",
    "plt.ylabel('true class')\n",
    "plt.show()"
   ]
  }
 ],
 "metadata": {
  "kernelspec": {
   "display_name": "base",
   "language": "python",
   "name": "python3"
  },
  "language_info": {
   "codemirror_mode": {
    "name": "ipython",
    "version": 3
   },
   "file_extension": ".py",
   "mimetype": "text/x-python",
   "name": "python",
   "nbconvert_exporter": "python",
   "pygments_lexer": "ipython3",
   "version": "3.11.6"
  }
 },
 "nbformat": 4,
 "nbformat_minor": 2
}
